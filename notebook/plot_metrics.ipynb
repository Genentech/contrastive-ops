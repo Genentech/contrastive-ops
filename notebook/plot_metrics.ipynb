{
 "cells": [
  {
   "cell_type": "code",
   "execution_count": 1,
   "metadata": {},
   "outputs": [
    {
     "name": "stdout",
     "output_type": "stream",
     "text": [
      "['default', 'despine']\n"
     ]
    }
   ],
   "source": [
    "import pandas as pd\n",
    "import matplotlib.pyplot as plt\n",
    "import mplscience\n",
    "mplscience.available_styles()\n",
    "mplscience.set_style(reset_current=True)"
   ]
  },
  {
   "cell_type": "code",
   "execution_count": 13,
   "metadata": {},
   "outputs": [],
   "source": [
    "model_name = {\n",
    "              \n",
    "              'VAE': 'vae_64_lg5jiwy7_best_all',\n",
    "              'cVAE': 'ctvae-conditional_noprioradjust_wasser8_2_itx3zxiv_all',\n",
    "            #   'ctVAE prior-s': 'ctvae-conditional_adjust_prior_s_wasser8_16fmn87l_all',\n",
    "              # 'ctVAE prior-z': 'ctvae-conditional_adjust_prior_z_wasser8_8u9j763w_all',\n",
    "              'mcVAE': 'ctvae-conditional_wasserstein8_fxk3lmiz',\n",
    "              'CellProfiler (batch corrected)': 'singlecell_ipca_fixederror_65pc_all',\n",
    "              # 'mcVAE (background)': 'ctvae-conditional_wasserstein8_fxk3lmiz_background',\n",
    "              # 'mcVAE (salient)': 'ctvae-conditional_wasserstein8_fxk3lmiz_salient',\n",
    "              }\n",
    "\n",
    "multivariate = dict()\n",
    "for key, name in model_name.items():\n",
    "    multivariate[key] = pd.read_pickle(f'/home/wangz222/evaluation/{name}/multivariate.pkl')"
   ]
  },
  {
   "cell_type": "code",
   "execution_count": null,
   "metadata": {},
   "outputs": [],
   "source": [
    "plt.figure(dpi=300)\n",
    "clist = ['tab:blue', 'tab:orange', 'tab:green','gray']\n",
    "colors = {model:clist[ii] for ii, model in enumerate(multivariate.keys())}\n",
    "for key, name in multivariate.items():\n",
    "    plt.plot(multivariate[key]['recall'], multivariate[key]['precision'], 'o-', label=key, alpha=0.6, color=colors[key])\n",
    "plt.xlabel('recall')\n",
    "plt.ylabel('precision')\n",
    "# put legend top right\n",
    "plt.legend(loc='upper right', bbox_to_anchor=(1.3, 1.0), fontsize=12)\n",
    "plt.savefig('figure/figure_1/corum_1.svg')"
   ]
  },
  {
   "cell_type": "code",
   "execution_count": null,
   "metadata": {},
   "outputs": [],
   "source": []
  }
 ],
 "metadata": {
  "kernelspec": {
   "display_name": "ops",
   "language": "python",
   "name": "python3"
  },
  "language_info": {
   "codemirror_mode": {
    "name": "ipython",
    "version": 3
   },
   "file_extension": ".py",
   "mimetype": "text/x-python",
   "name": "python",
   "nbconvert_exporter": "python",
   "pygments_lexer": "ipython3",
   "version": "3.8.16"
  }
 },
 "nbformat": 4,
 "nbformat_minor": 4
}
