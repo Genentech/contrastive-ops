{
 "cells": [
  {
   "cell_type": "code",
   "execution_count": 1,
   "metadata": {},
   "outputs": [],
   "source": [
    "import pandas as pd\n",
    "\n",
    "data = pd.read_pickle('/home/wangz222/scratch/splits_shuffled/filtered_df.pkl')\n",
    "data.to_parquet('/home/wangz222/scratch/splits_shuffled/filtered_df.parquet', compression='snappy')"
   ]
  },
  {
   "cell_type": "code",
   "execution_count": 3,
   "metadata": {},
   "outputs": [],
   "source": [
    "data = pd.read_pickle('/home/wangz222/scratch/embedding/ctvae-conditional_wasserstein8_fxk3lmiz.pkl')\n",
    "# make data column names string\n",
    "data.columns = data.columns.astype(str)\n",
    "data.to_parquet('/home/wangz222/scratch/embedding/ctvae-conditional_wasserstein8_fxk3lmiz.parquet', compression='snappy')"
   ]
  },
  {
   "cell_type": "code",
   "execution_count": 2,
   "metadata": {},
   "outputs": [],
   "source": [
    "import pandas as pd\n",
    "data = pd.read_pickle('/home/wangz222/scratch/embedding/cellprofiler/singlecell_select_gene.pkl')\n",
    "# make data column names string\n",
    "data.columns = data.columns.astype(str)\n",
    "data.to_parquet('/home/wangz222/scratch/embedding/cellprofiler/singlecell_select_gene.parquet', compression='snappy')"
   ]
  }
 ],
 "metadata": {
  "kernelspec": {
   "display_name": "ops",
   "language": "python",
   "name": "python3"
  },
  "language_info": {
   "codemirror_mode": {
    "name": "ipython",
    "version": 3
   },
   "file_extension": ".py",
   "mimetype": "text/x-python",
   "name": "python",
   "nbconvert_exporter": "python",
   "pygments_lexer": "ipython3",
   "version": "3.8.16"
  },
  "orig_nbformat": 4
 },
 "nbformat": 4,
 "nbformat_minor": 2
}
