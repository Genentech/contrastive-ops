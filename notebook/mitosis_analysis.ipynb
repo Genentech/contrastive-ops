{
 "cells": [
  {
   "cell_type": "code",
   "execution_count": 1,
   "metadata": {},
   "outputs": [
    {
     "name": "stdout",
     "output_type": "stream",
     "text": [
      "['default', 'despine']\n"
     ]
    }
   ],
   "source": [
    "# first import embedding, standardization, compute a stacked bargraph showing the proportion of a vector's magnitude from \n",
    "import pandas as pd\n",
    "from src.constants import Column\n",
    "import numpy as np\n",
    "import matplotlib.pyplot as plt\n",
    "from scipy.stats import pearsonr\n",
    "import seaborn as sns\n",
    "\n",
    "import mplscience\n",
    "mplscience.available_styles()\n",
    "mplscience.set_style(reset_current=True)"
   ]
  },
  {
   "cell_type": "markdown",
   "metadata": {},
   "source": [
    "### load univariate pvalue from cell profiler"
   ]
  },
  {
   "cell_type": "code",
   "execution_count": 2,
   "metadata": {},
   "outputs": [],
   "source": [
    "cp_univariate = pd.read_parquet('funk22-cellprofiler-univariate-ipca90.parquet')"
   ]
  },
  {
   "cell_type": "code",
   "execution_count": 3,
   "metadata": {},
   "outputs": [
    {
     "data": {
      "text/plain": [
       "(7040, 0.34860113889576627)"
      ]
     },
     "execution_count": 3,
     "metadata": {},
     "output_type": "execute_result"
    }
   ],
   "source": [
    "SIG_sgRNA = list(cp_univariate.loc[(cp_univariate['pvalue']<0.01) | (cp_univariate['gene_symbol_0']=='nontargeting'), 'sgRNA_0'])\n",
    "\n",
    "pvalues = np.array([v[\"pvalue\"] for k, v in cp_univariate.iterrows() if v['gene_symbol_0']!='nontargeting'])\n",
    "n_significant = np.sum(pvalues < 0.01)\n",
    "\n",
    "n_significant, n_significant / len(pvalues)"
   ]
  },
  {
   "cell_type": "code",
   "execution_count": 4,
   "metadata": {},
   "outputs": [],
   "source": [
    "root = '/home/wangz222/scratch/embedding'\n",
    "df = pd.read_pickle(f'{root}/ctvae-conditional_contrastive_model-44m9h8fu:v0.pkl')\n",
    "df = df[df['sgRNA_0'].isin(SIG_sgRNA)]\n",
    "df_agg = df.groupby(Column.sgRNA.value).agg({col: 'mean' if col != Column.gene.value else 'first' for col in df.columns[1:]}).groupby(Column.gene.value).mean()\n",
    "df_standardized = df_agg - df_agg.loc['nontargeting']"
   ]
  },
  {
   "cell_type": "code",
   "execution_count": 6,
   "metadata": {},
   "outputs": [],
   "source": [
    "df_agg.columns = df_agg.columns.astype(str)\n",
    "df_agg.to_parquet('/gstore/data/ctgbioinfo/kudot3/romain/df_agg_44m9h8fu.parquet', compression='snappy')"
   ]
  },
  {
   "cell_type": "code",
   "execution_count": 7,
   "metadata": {},
   "outputs": [],
   "source": [
    "metadata = pd.read_pickle('/home/wangz222/scratch/splits_shuffled/filtered_df.pkl')\n",
    "metadata = metadata[metadata[Column.sgRNA.value].isin(SIG_sgRNA)]\n",
    "def compute_proportion(series):\n",
    "    counts = series.value_counts(normalize=True)\n",
    "    return counts\n",
    "mitotic_index = metadata.groupby(Column.gene.value)[Column.cell_cycle_stage.value].apply(compute_proportion).unstack().fillna(0)\n",
    "ntc_mitotic_index = mitotic_index.loc['nontargeting', 'mitotic']\n",
    "mitotic_index = (mitotic_index['mitotic']-ntc_mitotic_index)/ntc_mitotic_index * 100"
   ]
  },
  {
   "cell_type": "code",
   "execution_count": 8,
   "metadata": {},
   "outputs": [
    {
     "data": {
      "text/plain": [
       "0.02657922376010739"
      ]
     },
     "execution_count": 8,
     "metadata": {},
     "output_type": "execute_result"
    }
   ],
   "source": [
    "np.mean(ntc_mitotic_index)"
   ]
  },
  {
   "cell_type": "code",
   "execution_count": 9,
   "metadata": {},
   "outputs": [
    {
     "name": "stdout",
     "output_type": "stream",
     "text": [
      "76.53713498141317\n"
     ]
    },
    {
     "data": {
      "image/png": "[encoded data removed]",
      "text/plain": [
       "<Figure size 400x400 with 1 Axes>"
      ]
     },
     "metadata": {},
     "output_type": "display_data"
    }
   ],
   "source": [
    "ntc_mitotic = metadata[metadata['gene_symbol_0']=='nontargeting'].groupby('sgRNA_0')['stage'].value_counts(normalize=True).unstack()['mitotic']\n",
    "plt.hist(ntc_mitotic)\n",
    "limit_mitotic_index = (ntc_mitotic.quantile(0.999) - np.mean(ntc_mitotic))/np.mean(ntc_mitotic) * 100\n",
    "print(limit_mitotic_index)"
   ]
  },
  {
   "cell_type": "code",
   "execution_count": 13,
   "metadata": {},
   "outputs": [],
   "source": [
    "ntc_mitotic.to_csv('/gstore/data/ctgbioinfo/kudot3/romain/ntc_mitotic.csv')"
   ]
  },
  {
   "cell_type": "code",
   "execution_count": null,
   "metadata": {},
   "outputs": [],
   "source": [
    "mitotic_index.to_csv('/gstore/data/ctgbioinfo/kudot3/romain/mitotic_index.csv')"
   ]
  },
  {
   "cell_type": "code",
   "execution_count": 9,
   "metadata": {},
   "outputs": [],
   "source": [
    "df_standardized['salient_mag'] = np.linalg.norm(df_standardized.iloc[:,:32], axis=1)**2\n",
    "df_standardized['background_mag']  = np.linalg.norm(df_standardized.iloc[:,32:64], axis=1)**2\n",
    "\n",
    "df_standardized['salient_mag'] = df_standardized['salient_mag']/np.mean(df_standardized['salient_mag'])\n",
    "df_standardized['background_mag'] = df_standardized['background_mag']/np.mean(df_standardized['background_mag'])\n",
    "\n",
    "df_standardized['background_contribution'] = df_standardized['background_mag']/(df_standardized['salient_mag']+df_standardized['background_mag'])\n",
    "df_standardized['mitotic_index'] = np.abs(mitotic_index)\n"
   ]
  },
  {
   "cell_type": "code",
   "execution_count": 14,
   "metadata": {},
   "outputs": [],
   "source": [
    "df_standardized.columns = df_standardized.columns.astype(str)"
   ]
  },
  {
   "cell_type": "code",
   "execution_count": 15,
   "metadata": {},
   "outputs": [],
   "source": [
    "df_standardized.to_parquet('df_standardized_mitosis.parquet', compression='snappy')"
   ]
  },
  {
   "cell_type": "code",
   "execution_count": null,
   "metadata": {},
   "outputs": [],
   "source": [
    "df_standardized.drop('nontargeting', inplace=True)"
   ]
  },
  {
   "cell_type": "code",
   "execution_count": 15,
   "metadata": {},
   "outputs": [],
   "source": [
    "mitotic_factor = [\n",
    "    'ANAPC11', 'ORC5', 'CENPK', 'CENPE', 'RBBP4',\n",
    "    'CENPM', 'STIL', 'TOP2A', 'ORC4', 'WEE1', 'SKA3', 'CDC14B', 'CDC26',  'BUB3', 'CDC7', 'NDC80',\n",
    "    'SFN', 'WAPL', 'CENPC', 'PRKDC', 'SMC2', 'WEE2', 'SMAD3', 'ANAPC1', 'INCENP', 'KIF11', 'TUBA1B',\n",
    "    'CDKN2A','CDC14A', 'DBF4', 'MAD2L1', 'HAUS6', 'AURKA', 'LIN54', 'ANAPC13', 'BUB1B', 'HAUS3',\n",
    "    'NCAPG', 'ANLN', 'CKAP5', 'ORC1', 'FBXW7', 'CDC25A', 'CENPA', 'NCAPD2', 'ABL1', 'CCNA1',\n",
    "    'CUL1', 'RBL1', 'KIF14', 'MAD2L2', 'CENPH', 'CENPW', 'NEK6', 'UBE2I', 'ORC2', 'UBE2D3', 'LIN37',\n",
    "    'KIF18A', 'TUBB4B', 'TUBG1', 'AURKB', 'PLK1', 'SKA1', 'CENPF', 'CDC23', 'CDC25B', 'NEDD1', 'CENPJ',\n",
    "    'SKA2',  'ANAPC5', 'CDC45', 'LIN9', 'KNTC1', 'SMC1B', 'HAUS5', 'STAG2', 'SASS6', 'ECT2',\n",
    "    'ANAPC10', 'SPDL1', 'SPC25', 'ANAPC7', 'CCNF', 'CENPI', 'HAUS1', 'KIF23', 'TTK', 'SKP1', 'ESPL1',\n",
    "    'SPC24', 'SKP2', 'STAG1', 'NUF2', 'RACGAP1', 'SMC1A', 'BUB1', 'CCNB2', 'KIF20A',\n",
    "    'RAD21', 'CDC20', 'NUDC', 'CDC16', 'TUBGCP6', 'CDK2', 'CCNA2', 'FZR1', 'NIPBL', 'PTTG1', 'HAUS7',\n",
    "    'CDCA5', 'CHEK1', 'ANAPC4', 'CENPP', 'CENPL', 'CDC27', 'CCNB1', 'CEP192', 'PKMYT1', 'CENPN', 'PLK4',\n",
    "    'NCAPH2', 'PRC1', 'HDAC1', 'HAUS2', 'HAUS8', 'SMC3', 'NUMA1', 'CDC25C', 'ANAPC2', 'CHEK2', 'CDCA8',\n",
    "    'MAD1L1', 'HAUS4', 'CCNB3', 'LIN52', 'BIRC5', 'TACC3', 'SGO1', 'CDK7', 'CEP55','BORA','SRSF1',\n",
    "    'PRPF40A', 'ERH', 'CDK1', \n",
    "]\n",
    "\n",
    "# cell_cycle_factor = [\n",
    "#     'ZBTB17', 'TFDP1', 'RBX1', 'CDK1', 'ANAPC11', 'ATM', 'E2F2', 'ORC5', 'MCM6', \n",
    "#     'SMAD2', 'CCNH', 'MCM9', 'SMARCA4', 'CENPK', 'CENPE', 'RBBP4', 'GADD45B', 'MYC', \n",
    "#     'CENPM', 'STIL', 'TOP2A', 'ORC4', 'WEE1', 'SKA3', 'CDC14B', 'YWHAG', 'CDC26', \n",
    "#     'YWHAH', 'BUB3', 'CDC7', 'NDC80', 'SFN', 'WAPL', 'CENPC', 'PRKDC', 'SMC2', 'E2F5', \n",
    "#     'WEE2', 'SMAD3', 'ANAPC1', 'INCENP', 'TBCC', 'KIF11', 'TUBA1B', 'CDKN2A', 'CCND3', \n",
    "#     'CDC14A', 'DBF4', 'MAD2L1', 'HAUS6', 'AURKA', 'LIN54', 'E2F1', 'ANAPC13', 'BUB1B', \n",
    "#     'GADD45G', 'TGFB1', 'HAUS3', 'NCAPG', 'ANLN', 'CKAP5', 'ORC1', 'FBXW7', 'MCM4', \n",
    "#     'TUBB', 'CDC25A', 'CENPA', 'NCAPD2', 'MCM10', 'ABL1', 'CCNA1', 'CUL1', 'RBL1', \n",
    "#     'TGFB3', 'KIF14', 'TGFB2', 'MAD2L2', 'CENPH', 'CENPW', 'NEK6', 'UBE2I', 'ORC2', \n",
    "#     'YWHAB', 'UBE2D3', 'LIN37', 'CDC6', 'KIF18A', 'TP53', 'TUBB4B', 'TUBG1', 'HDAC2', \n",
    "#     'AURKB', 'PLK1', 'E2F3', 'SKA1', 'CENPF', 'CDC23', 'RB1', 'CDC25B', 'PCNA', 'NEDD1', \n",
    "#     'BTAF1', 'LENG8', 'CCND1', 'CENPJ', 'SKA2', 'MCM7', 'CDKN2B', 'CCND2', 'TFDP2', \n",
    "#     'TUBA1C', 'TUBB8', 'ANAPC5', 'CDC45', 'LIN9', 'KNTC1', 'SMC1B', 'CDKN1B', 'HAUS5', \n",
    "#     'CIT', 'STAG2', 'ECT2', 'SASS6', 'ANAPC10', 'SPDL1', 'ZNF207', 'SPC25', 'ANAPC7', \n",
    "#     'CCNF', 'RBBP7', 'TUBB8B', 'CENPI', 'TUBA3D', 'CCNE2', 'HAUS1', 'KIF23', 'TTK', \n",
    "#     'SKP1', 'ORC3', 'TUBA1A', 'ESPL1', 'SPC24', 'SKP2', 'STAG1', 'NUF2', 'SRCAP', \n",
    "#     'RACGAP1', 'ATR', 'CDKN2C', 'SMC1A', 'ORC6', 'MCM5', 'MAU2', 'TUBGCP3', 'CCNE1', \n",
    "#     'BUB1', 'MCM2', 'PTTG2', 'CCNB2', 'KIF20A', 'RAD21', 'TUBB2A', 'CDKN2D', 'CDC20', \n",
    "#     'NUDC', 'CDC16', 'TUBGCP6', 'MCM3', 'YWHAE', 'CDK2', 'CCNA2', 'FZR1', 'NIPBL', \n",
    "#     'TUBGCP2', 'PTTG1', 'CDCA5', 'HAUS7', 'CHEK1', 'ANAPC4', 'CDK4', 'CENPP', 'CENPL', \n",
    "#     'SMAD4', 'MDM2', 'CDC27', 'CCNB1', 'YWHAQ', 'CEP192', 'CDKN1A', 'PKMYT1', 'CENPN', \n",
    "#     'PLK4', 'MYBL2', 'NCAPH2', 'PRC1', 'CDK6', 'HDAC1', 'HAUS2', 'E2F4', 'HAUS8', 'SMC3', \n",
    "#     'NUMA1', 'CDC25C', 'ANAPC2', 'CHEK2', 'CDCA8', 'YWHAZ', 'MAD1L1', 'GSK3B', 'CDC5L', \n",
    "#     'HAUS4', 'CCNB3', 'CDKN1C', 'RBL2', 'LIN52', 'GADD45A', 'BIRC5', 'TACC3', 'SGO1', \n",
    "#     'CDK7', 'CEP55'\n",
    "# ]\n",
    "genes_involved_in_mitosis_and_cell_cycle = [gene for gene in mitotic_factor if gene in list(df_standardized.index)]\n"
   ]
  },
  {
   "cell_type": "markdown",
   "metadata": {},
   "source": [
    "### change order of points so the established mitotic factors are always plotted first"
   ]
  },
  {
   "cell_type": "code",
   "execution_count": null,
   "metadata": {},
   "outputs": [],
   "source": [
    "df_standardized['label'] = ''\n",
    "df_standardized.loc[genes_involved_in_mitosis_and_cell_cycle, 'label'] = 'established mitotic factor'\n",
    "df_standardized.loc[df_standardized['label'] != 'established mitotic factor', 'label'] = 'Other'\n",
    "\n",
    "labels_order = ['Other', 'established mitotic factor']\n",
    "df_standardized['label'] = df_standardized['label'].astype('category')\n",
    "df_standardized['label'].cat.set_categories(labels_order, ordered=True, inplace=True)\n",
    "df_standardized.sort_values('label', inplace=True)"
   ]
  },
  {
   "cell_type": "code",
   "execution_count": null,
   "metadata": {},
   "outputs": [],
   "source": [
    "plt.figure(dpi=400)\n",
    "temp = pd.concat([np.log10(df_standardized[[\"salient_mag\", \"background_mag\"]]), df_standardized['label']], axis=1)\n",
    "g = sns.JointGrid(data=temp, x=\"salient_mag\", y=\"background_mag\", hue='label')\n",
    "g = g.plot_joint(sns.scatterplot, s=22)\n",
    "g = g.plot_marginals(sns.kdeplot, fill=True, common_norm=False)\n",
    "\n",
    "g.ax_joint.plot([-1.5,2.4],[-1.5,2.4], c='gray')\n",
    "g.ax_joint.set_xlabel(r'$\\log(\\|salient\\|^2)$', fontsize=12)\n",
    "g.ax_joint.set_ylabel(r'$\\log(\\|background\\|^2)$', fontsize=12)\n",
    "g.ax_joint.set_ylim(-1.5,1.8)\n",
    "g.ax_joint.set_xlim(-1.5,1.8)\n",
    "legend = g.ax_joint.get_legend()\n",
    "legend.set_title('')\n",
    "plt.savefig('figure/figure_4/mitotic_factor_norm.svg', bbox_inches='tight')"
   ]
  },
  {
   "cell_type": "code",
   "execution_count": null,
   "metadata": {},
   "outputs": [],
   "source": [
    "df_standardized['label'] = ''\n",
    "df_standardized.loc[genes_involved_in_mitosis_and_cell_cycle, 'label'] = 'established mitotic factor'\n",
    "df_standardized.loc[df_standardized['label'] != 'established mitotic factor', 'label'] = 'Other'\n",
    "df_standardized.loc[df_standardized['mitotic_index']<limit_mitotic_index, 'label'] = 'non-significant'\n",
    "\n",
    "labels_order = ['non-significant', 'Other', 'established mitotic factor']\n",
    "df_standardized['label'] = df_standardized['label'].astype('category')\n",
    "df_standardized['label'].cat.set_categories(labels_order, ordered=True, inplace=True)\n",
    "df_standardized.sort_values('label', inplace=True)"
   ]
  },
  {
   "cell_type": "code",
   "execution_count": null,
   "metadata": {},
   "outputs": [],
   "source": [
    "palette = {\n",
    "    \"non-significant\": \"lightgray\",\n",
    "    \"Other\": \"tab:blue\",\n",
    "    \"established mitotic factor\": \"tab:orange\"\n",
    "}\n",
    "\n",
    "g = sns.JointGrid(data=df_standardized, x=\"mitotic_index\", y=\"background_contribution\", hue=\"label\", palette=palette)\n",
    "g = g.plot_joint(sns.scatterplot, data=df_standardized, s=22)\n",
    "# g = g.plot_marginals(sns.kdeplot, data=df_standardized[df_standardized['label'] != 'non-significant'], fill=True, common_norm=False)\n",
    "df_other = df_standardized[df_standardized['label'] == 'Other']\n",
    "df_established = df_standardized[df_standardized['label'] == 'established mitotic factor']\n",
    "\n",
    "# Manually add the KDE plots for the labels you want\n",
    "sns.kdeplot(data=df_other, x=\"mitotic_index\", fill=True, common_norm=False, ax=g.ax_marg_x)\n",
    "sns.kdeplot(data=df_other, y=\"background_contribution\", fill=True, common_norm=False, ax=g.ax_marg_y)\n",
    "\n",
    "sns.kdeplot(data=df_established, x=\"mitotic_index\", fill=True, common_norm=False, ax=g.ax_marg_x)\n",
    "sns.kdeplot(data=df_established, y=\"background_contribution\", fill=True, common_norm=False, ax=g.ax_marg_y)\n",
    "\n",
    "\n",
    "g.ax_joint.set_ylabel(r'$\\frac{\\|background\\|^2}{\\|background\\|^2 + \\|salient\\|^2}$', fontsize=16)\n",
    "g.ax_joint.set_xlabel('mitotic index', fontsize=14)\n",
    "g.ax_joint.set_ylim(0.,1)\n",
    "g.ax_joint.set_xlim(0, 1150)\n",
    "g.ax_joint.legend(frameon=False)\n",
    "legend = g.ax_joint.get_legend()\n",
    "\n",
    "# Remove the legend title\n",
    "legend.set_title('')\n",
    "g.ax_joint.axhline(0.5, color='k', linestyle='--')\n",
    "plt.savefig('figure/figure_4/mitotic_index_norm_ratio.svg')"
   ]
  },
  {
   "cell_type": "code",
   "execution_count": null,
   "metadata": {},
   "outputs": [],
   "source": [
    "from sklearn.metrics import roc_curve, auc\n",
    "\n",
    "# Assuming you have a DataFrame called df with columns 'v1', 'v2', and 'label'\n",
    "# Convert the label to a binary encoding if it's not already\n",
    "df = pd.concat([df_other[['background_contribution','mitotic_index','label']], df_established[['background_contribution','mitotic_index','label']]])\n",
    "df['label'] = (df['label'] == 'established mitotic factor').astype(int)  # Replace 'positive_label' with the actual positive class label\n",
    "\n",
    "# Compute ROC curve for v1\n",
    "fpr_v1, tpr_v1, _ = roc_curve(df['label'], df['background_contribution'])\n",
    "roc_auc_v1 = auc(fpr_v1, tpr_v1)\n",
    "\n",
    "# Compute ROC curve for v2\n",
    "fpr_v2, tpr_v2, _ = roc_curve(df['label'], df['mitotic_index'])\n",
    "roc_auc_v2 = auc(fpr_v2, tpr_v2)\n",
    "\n",
    "# Plot ROC curve for v1\n",
    "plt.figure()\n",
    "plt.plot(fpr_v1, tpr_v1, color='blue', lw=2, label='relative background norm (area = %0.2f)' % roc_auc_v1)\n",
    "\n",
    "# Plot ROC curve for v2\n",
    "plt.plot(fpr_v2, tpr_v2, color='green', lw=2, label='mitotic index (area = %0.2f)' % roc_auc_v2)\n",
    "\n",
    "# Plot random guessing line\n",
    "plt.plot([0, 1], [0, 1], color='red', lw=2, linestyle='--')\n",
    "\n",
    "plt.xlim([0.0, 1.0])\n",
    "plt.ylim([0.0, 1.05])\n",
    "plt.xlabel('False Positive Rate')\n",
    "plt.ylabel('True Positive Rate')\n",
    "# plt.title('Receiver Operating Characteristic')\n",
    "plt.legend(loc=\"lower right\")\n",
    "#remove top and right spline\n",
    "plt.savefig('figure/figure_4/roc_curve.svg', bbox_inches='tight')\n",
    "plt.show()\n"
   ]
  },
  {
   "cell_type": "code",
   "execution_count": null,
   "metadata": {},
   "outputs": [],
   "source": []
  }
 ],
 "metadata": {
  "kernelspec": {
   "display_name": "ops",
   "language": "python",
   "name": "python3"
  },
  "language_info": {
   "codemirror_mode": {
    "name": "ipython",
    "version": 3
   },
   "file_extension": ".py",
   "mimetype": "text/x-python",
   "name": "python",
   "nbconvert_exporter": "python",
   "pygments_lexer": "ipython3",
   "version": "3.8.16"
  }
 },
 "nbformat": 4,
 "nbformat_minor": 4
}
