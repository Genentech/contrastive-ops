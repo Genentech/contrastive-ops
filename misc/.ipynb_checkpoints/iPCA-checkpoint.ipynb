{
 "cells": [
  {
   "cell_type": "code",
   "execution_count": 1,
   "metadata": {},
   "outputs": [],
   "source": [
    "import pandas as pd\n",
    "import numpy as np\n",
    "from joblib import Parallel, delayed, dump, load\n"
   ]
  },
  {
   "cell_type": "code",
   "execution_count": 2,
   "metadata": {},
   "outputs": [],
   "source": [
    "df_pca = pd.read_pickle('/home/wangz222/scratch/embedding/cellprofiler/cell_ipca_fixederror.pkl')\n",
    "ipca = load('/home/wangz222/scratch/embedding/cellprofiler/ipca_fixederror.joblib')"
   ]
  },
  {
   "cell_type": "code",
   "execution_count": 3,
   "metadata": {},
   "outputs": [],
   "source": [
    "def find_index(arr, target):\n",
    "    running_sum = 0\n",
    "    for i in range(len(arr)):\n",
    "        if running_sum + arr[i] > target:\n",
    "            return i - 1  # return the previous index\n",
    "        running_sum += arr[i]\n",
    "    return -1  # return -1 if no such index is found"
   ]
  },
  {
   "cell_type": "code",
   "execution_count": 8,
   "metadata": {},
   "outputs": [
    {
     "data": {
      "text/plain": [
       "32"
      ]
     },
     "execution_count": 8,
     "metadata": {},
     "output_type": "execute_result"
    }
   ],
   "source": [
    "find_index(ipca.explained_variance_ratio_, 0.684)"
   ]
  },
  {
   "cell_type": "code",
   "execution_count": 1,
   "metadata": {},
   "outputs": [],
   "source": [
    "import pandas as pd\n",
    "import numpy as np\n",
    "from sklearn.decomposition import IncrementalPCA\n",
    "from sklearn.preprocessing import StandardScaler\n",
    "from tqdm import tqdm\n",
    "import pickle\n",
    "import os\n",
    "import random\n",
    "import sys\n",
    "from joblib import Parallel, delayed, dump, load\n",
    "\n",
    "# Initialize an IncrementalPCA object\n",
    "n_components = 650  # Or however many components you wish to keep\n",
    "ipca = IncrementalPCA(n_components=n_components)\n",
    "\n",
    "# Initialize a StandardScaler object\n",
    "scaler = StandardScaler()\n",
    "\n",
    "# Specify features to use\n",
    "DATA_DIR = '/projects/site/gred/resbioai/comp_vision/cellpaint-ai/ops/datasets/funk22/funk22-phenotype-profiles'\n",
    "xls = pd.ExcelFile('/home/wangz222/cellprofiler/extracted_image_features.xlsx')\n",
    "image_features = xls.parse('(B) Extracted image features', header=1)['feature']\n",
    "\n",
    "# Get all parquet files\n",
    "folder_path = f'{DATA_DIR}/mitotic-reclassified_cp_phenotype_normalized.parquet'\n",
    "mitotic_files = [os.path.join(folder_path, file) for file in os.listdir(folder_path) if file.endswith('.parquet')]\n",
    "folder_path = f'{DATA_DIR}/interphase-reclassified_cp_phenotype_normalized.parquet'\n",
    "parquet_files = mitotic_files + [os.path.join(folder_path, file) for file in os.listdir(folder_path) if file.endswith('.parquet')]\n"
   ]
  },
  {
   "cell_type": "code",
   "execution_count": null,
   "metadata": {
    "scrolled": true
   },
   "outputs": [
    {
     "name": "stderr",
     "output_type": "stream",
     "text": [
      "  1%|          | 24/3122 [00:01<03:25, 15.11it/s]/home/wangz222/miniconda3/envs/ops/lib/python3.8/site-packages/joblib/externals/loky/process_executor.py:700: UserWarning: A worker stopped while some jobs were given to the executor. This can be caused by a too short worker timeout or by a memory leak.\n",
      "  warnings.warn(\n",
      "  2%|▏         | 66/3122 [00:04<03:53, 13.07it/s]/home/wangz222/miniconda3/envs/ops/lib/python3.8/site-packages/joblib/externals/loky/process_executor.py:700: UserWarning: A worker stopped while some jobs were given to the executor. This can be caused by a too short worker timeout or by a memory leak.\n",
      "  warnings.warn(\n",
      "  3%|▎         | 96/3122 [00:07<04:24, 11.44it/s]/home/wangz222/miniconda3/envs/ops/lib/python3.8/site-packages/joblib/externals/loky/process_executor.py:700: UserWarning: A worker stopped while some jobs were given to the executor. This can be caused by a too short worker timeout or by a memory leak.\n",
      "  warnings.warn(\n",
      "  3%|▎         | 102/3122 [00:08<04:21, 11.57it/s]/home/wangz222/miniconda3/envs/ops/lib/python3.8/site-packages/joblib/externals/loky/process_executor.py:700: UserWarning: A worker stopped while some jobs were given to the executor. This can be caused by a too short worker timeout or by a memory leak.\n",
      "  warnings.warn(\n",
      "  4%|▍         | 126/3122 [00:10<04:40, 10.68it/s]/home/wangz222/miniconda3/envs/ops/lib/python3.8/site-packages/joblib/externals/loky/process_executor.py:700: UserWarning: A worker stopped while some jobs were given to the executor. This can be caused by a too short worker timeout or by a memory leak.\n",
      "  warnings.warn(\n",
      "  5%|▍         | 156/3122 [00:13<04:20, 11.40it/s]/home/wangz222/miniconda3/envs/ops/lib/python3.8/site-packages/joblib/externals/loky/process_executor.py:700: UserWarning: A worker stopped while some jobs were given to the executor. This can be caused by a too short worker timeout or by a memory leak.\n",
      "  warnings.warn(\n",
      "  7%|▋         | 210/3122 [00:17<04:00, 12.09it/s]/home/wangz222/miniconda3/envs/ops/lib/python3.8/site-packages/joblib/externals/loky/process_executor.py:700: UserWarning: A worker stopped while some jobs were given to the executor. This can be caused by a too short worker timeout or by a memory leak.\n",
      "  warnings.warn(\n",
      "  9%|▉         | 288/3122 [00:24<04:23, 10.76it/s]/home/wangz222/miniconda3/envs/ops/lib/python3.8/site-packages/joblib/externals/loky/process_executor.py:700: UserWarning: A worker stopped while some jobs were given to the executor. This can be caused by a too short worker timeout or by a memory leak.\n",
      "  warnings.warn(\n",
      "  9%|▉         | 294/3122 [00:25<04:24, 10.70it/s]/home/wangz222/miniconda3/envs/ops/lib/python3.8/site-packages/joblib/externals/loky/process_executor.py:700: UserWarning: A worker stopped while some jobs were given to the executor. This can be caused by a too short worker timeout or by a memory leak.\n",
      "  warnings.warn(\n",
      " 10%|▉         | 306/3122 [00:26<04:15, 11.03it/s]"
     ]
    }
   ],
   "source": [
    "def pca_transform(file_path, ipca, scaler):\n",
    "    # open the Parquet file\n",
    "    chunk = pd.read_parquet(file_path).reset_index()\n",
    "    chunk = chunk.replace([np.inf, -np.inf], np.nan).dropna(how=\"any\").reset_index(drop=True)\n",
    "\n",
    "    if chunk.shape[0] > 0:\n",
    "        return chunk[['sgRNA_0', 'gene_symbol_0', 'cell_gh2ax_mean', 'cell_gh2ax_median', 'cell_gh2ax_max', 'cell_gh2ax_upper_quartile']]\n",
    "    \n",
    "# Create the list of delayed tasks\n",
    "tasks = [delayed(pca_transform)(file_path, ipca, scaler) for file_path in parquet_files]\n",
    "results = Parallel(n_jobs=6)(tqdm(tasks))"
   ]
  },
  {
   "cell_type": "code",
   "execution_count": 19,
   "metadata": {},
   "outputs": [],
   "source": [
    "import matplotlib.pyplot as plt\n",
    "\n",
    "aggregated = pd.concat(results)"
   ]
  },
  {
   "cell_type": "code",
   "execution_count": 26,
   "metadata": {},
   "outputs": [
    {
     "data": {
      "text/plain": [
       "<matplotlib.legend.Legend at 0x151e2b3b6820>"
      ]
     },
     "execution_count": 26,
     "metadata": {},
     "output_type": "execute_result"
    },
    {
     "data": {
      "image/png": "[encoded data removed]",
      "text/plain": [
       "<Figure size 640x480 with 1 Axes>"
      ]
     },
     "metadata": {},
     "output_type": "display_data"
    }
   ],
   "source": [
    "plt.hist(np.arcsinh(aggregated[aggregated['gene_symbol_0']=='nontargeting']['cell_gh2ax_mean']), density='probability', label='ntc')\n",
    "plt.hist(np.arcsinh(aggregated[aggregated['gene_symbol_0']!='nontargeting']['cell_gh2ax_mean']), alpha=0.2, density='probability', label='perturbed')\n",
    "plt.legend()"
   ]
  },
  {
   "cell_type": "code",
   "execution_count": null,
   "metadata": {},
   "outputs": [],
   "source": [
    "plt.hist(np.arcsinh(aggregated[aggregated['gene_symbol_0']=='nontargeting']['cell_gh2ax_mean']), density='probability', label='ntc')\n",
    "plt.hist(np.arcsinh(aggregated[aggregated['gene_symbol_0']!='nontargeting']['cell_gh2ax_mean']), alpha=0.2, density='probability', label='perturbed')\n",
    "plt.legend()"
   ]
  },
  {
   "cell_type": "code",
   "execution_count": 28,
   "metadata": {},
   "outputs": [
    {
     "data": {
      "text/plain": [
       "['cell_gh2ax_int',\n",
       " 'cell_gh2ax_mean',\n",
       " 'cell_gh2ax_std',\n",
       " 'cell_gh2ax_max',\n",
       " 'cell_gh2ax_min',\n",
       " 'cell_gh2ax_int_edge',\n",
       " 'cell_gh2ax_mean_edge',\n",
       " 'cell_gh2ax_std_edge',\n",
       " 'cell_gh2ax_max_edge',\n",
       " 'cell_gh2ax_min_edge',\n",
       " 'cell_gh2ax_mass_displacement',\n",
       " 'cell_gh2ax_lower_quartile',\n",
       " 'cell_gh2ax_median',\n",
       " 'cell_gh2ax_mad',\n",
       " 'cell_gh2ax_upper_quartile',\n",
       " 'cell_gh2ax_center_mass_r',\n",
       " 'cell_gh2ax_center_mass_c',\n",
       " 'cell_gh2ax_max_location_r',\n",
       " 'cell_gh2ax_max_location_c',\n",
       " 'cell_gh2ax_frac_at_d_0',\n",
       " 'cell_gh2ax_frac_at_d_1',\n",
       " 'cell_gh2ax_frac_at_d_2',\n",
       " 'cell_gh2ax_frac_at_d_3',\n",
       " 'cell_gh2ax_mean_frac_0',\n",
       " 'cell_gh2ax_mean_frac_1',\n",
       " 'cell_gh2ax_mean_frac_2',\n",
       " 'cell_gh2ax_mean_frac_3',\n",
       " 'cell_gh2ax_radial_cv_0',\n",
       " 'cell_gh2ax_radial_cv_1',\n",
       " 'cell_gh2ax_radial_cv_2',\n",
       " 'cell_gh2ax_radial_cv_3',\n",
       " 'cell_gh2ax_weighted_hu_moments_0',\n",
       " 'cell_gh2ax_weighted_hu_moments_1',\n",
       " 'cell_gh2ax_weighted_hu_moments_2',\n",
       " 'cell_gh2ax_weighted_hu_moments_3',\n",
       " 'cell_gh2ax_weighted_hu_moments_4',\n",
       " 'cell_gh2ax_weighted_hu_moments_5',\n",
       " 'cell_gh2ax_weighted_hu_moments_6',\n",
       " 'cell_gh2ax_pftas_0',\n",
       " 'cell_gh2ax_pftas_1',\n",
       " 'cell_gh2ax_pftas_2',\n",
       " 'cell_gh2ax_pftas_3',\n",
       " 'cell_gh2ax_pftas_4',\n",
       " 'cell_gh2ax_pftas_5',\n",
       " 'cell_gh2ax_pftas_6',\n",
       " 'cell_gh2ax_pftas_7',\n",
       " 'cell_gh2ax_pftas_8',\n",
       " 'cell_gh2ax_pftas_9',\n",
       " 'cell_gh2ax_pftas_10',\n",
       " 'cell_gh2ax_pftas_11',\n",
       " 'cell_gh2ax_pftas_12',\n",
       " 'cell_gh2ax_pftas_13',\n",
       " 'cell_gh2ax_pftas_14',\n",
       " 'cell_gh2ax_pftas_15',\n",
       " 'cell_gh2ax_pftas_16',\n",
       " 'cell_gh2ax_pftas_17',\n",
       " 'cell_gh2ax_pftas_18',\n",
       " 'cell_gh2ax_pftas_19',\n",
       " 'cell_gh2ax_pftas_20',\n",
       " 'cell_gh2ax_pftas_21',\n",
       " 'cell_gh2ax_pftas_22',\n",
       " 'cell_gh2ax_pftas_23',\n",
       " 'cell_gh2ax_pftas_24',\n",
       " 'cell_gh2ax_pftas_25',\n",
       " 'cell_gh2ax_pftas_26',\n",
       " 'cell_gh2ax_pftas_27',\n",
       " 'cell_gh2ax_pftas_28',\n",
       " 'cell_gh2ax_pftas_29',\n",
       " 'cell_gh2ax_pftas_30',\n",
       " 'cell_gh2ax_pftas_31',\n",
       " 'cell_gh2ax_pftas_32',\n",
       " 'cell_gh2ax_pftas_33',\n",
       " 'cell_gh2ax_pftas_34',\n",
       " 'cell_gh2ax_pftas_35',\n",
       " 'cell_gh2ax_pftas_36',\n",
       " 'cell_gh2ax_pftas_37',\n",
       " 'cell_gh2ax_pftas_38',\n",
       " 'cell_gh2ax_pftas_39',\n",
       " 'cell_gh2ax_pftas_40',\n",
       " 'cell_gh2ax_pftas_41',\n",
       " 'cell_gh2ax_pftas_42',\n",
       " 'cell_gh2ax_pftas_43',\n",
       " 'cell_gh2ax_pftas_44',\n",
       " 'cell_gh2ax_pftas_45',\n",
       " 'cell_gh2ax_pftas_46',\n",
       " 'cell_gh2ax_pftas_47',\n",
       " 'cell_gh2ax_pftas_48',\n",
       " 'cell_gh2ax_pftas_49',\n",
       " 'cell_gh2ax_pftas_50',\n",
       " 'cell_gh2ax_pftas_51',\n",
       " 'cell_gh2ax_pftas_52',\n",
       " 'cell_gh2ax_pftas_53',\n",
       " 'cell_gh2ax_haralick_5_0',\n",
       " 'cell_gh2ax_haralick_5_1',\n",
       " 'cell_gh2ax_haralick_5_2',\n",
       " 'cell_gh2ax_haralick_5_3',\n",
       " 'cell_gh2ax_haralick_5_4',\n",
       " 'cell_gh2ax_haralick_5_5',\n",
       " 'cell_gh2ax_haralick_5_6',\n",
       " 'cell_gh2ax_haralick_5_7',\n",
       " 'cell_gh2ax_haralick_5_8',\n",
       " 'cell_gh2ax_haralick_5_9',\n",
       " 'cell_gh2ax_haralick_5_10',\n",
       " 'cell_gh2ax_haralick_5_11',\n",
       " 'cell_gh2ax_haralick_5_12',\n",
       " 'cell_gh2ax_foci_count',\n",
       " 'cell_gh2ax_foci_area']"
      ]
     },
     "execution_count": 28,
     "metadata": {},
     "output_type": "execute_result"
    }
   ],
   "source": [
    "[name for name in chunk if name.startswith('cell_gh2ax')]"
   ]
  },
  {
   "cell_type": "code",
   "execution_count": null,
   "metadata": {},
   "outputs": [],
   "source": []
  }
 ],
 "metadata": {
  "kernelspec": {
   "display_name": "ops",
   "language": "python",
   "name": "ops"
  },
  "language_info": {
   "codemirror_mode": {
    "name": "ipython",
    "version": 3
   },
   "file_extension": ".py",
   "mimetype": "text/x-python",
   "name": "python",
   "nbconvert_exporter": "python",
   "pygments_lexer": "ipython3",
   "version": "3.8.16"
  }
 },
 "nbformat": 4,
 "nbformat_minor": 4
}
