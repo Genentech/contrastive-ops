{
 "cells": [
  {
   "cell_type": "code",
   "execution_count": 3,
   "metadata": {},
   "outputs": [],
   "source": [
    "# from sklearn.neighbors import NearestNeighbors\n",
    "from joblib import Parallel, delayed\n",
    "import numpy as np\n",
    "# from sklearn.metrics import silhouette_score\n",
    "# from sklearn.preprocessing import normalize\n",
    "import pandas as pd\n",
    "import os\n",
    "\n",
    "root = '/home/wangz222/scratch/embedding'\n",
    "df = pd.read_pickle(os.path.join(root, 'ctvae-conditional_contrastive_model-44m9h8fu:v0.pkl'))"
   ]
  },
  {
   "cell_type": "code",
   "execution_count": 4,
   "metadata": {},
   "outputs": [
    {
     "name": "stdout",
     "output_type": "stream",
     "text": [
      "Index(['sgRNA_0', 'gene_symbol_0'], dtype='object')\n",
      "Index([ 0,  1,  2,  3,  4,  5,  6,  7,  8,  9, 10, 11, 12, 13, 14, 15, 16, 17,\n",
      "       18, 19, 20, 21, 22, 23, 24, 25, 26, 27, 28, 29, 30, 31, 32, 33, 34, 35,\n",
      "       36, 37, 38, 39, 40, 41, 42, 43, 44, 45, 46, 47, 48, 49, 50, 51, 52, 53,\n",
      "       54, 55, 56, 57, 58, 59, 60, 61, 62, 63],\n",
      "      dtype='object')\n"
     ]
    }
   ],
   "source": [
    "print(df.columns[:2])\n",
    "print(df.columns[2:])"
   ]
  },
  {
   "cell_type": "code",
   "execution_count": 7,
   "metadata": {},
   "outputs": [
    {
     "ename": "OSError",
     "evalue": "libcudart.so: cannot open shared object file: No such file or directory",
     "output_type": "error",
     "traceback": [
      "\u001b[0;31m---------------------------------------------------------------------------\u001b[0m",
      "\u001b[0;31mOSError\u001b[0m                                   Traceback (most recent call last)",
      "Cell \u001b[0;32mIn[7], line 1\u001b[0m\n\u001b[0;32m----> 1\u001b[0m \u001b[38;5;28;01mimport\u001b[39;00m \u001b[38;5;21;01mcudf\u001b[39;00m\n\u001b[1;32m      2\u001b[0m \u001b[38;5;28;01mimport\u001b[39;00m \u001b[38;5;21;01mcuml\u001b[39;00m\n",
      "File \u001b[0;32m~/miniconda3/envs/rapids/lib/python3.9/site-packages/cudf/__init__.py:10\u001b[0m\n\u001b[1;32m      7\u001b[0m \u001b[38;5;28;01mfrom\u001b[39;00m \u001b[38;5;21;01mcudf\u001b[39;00m\u001b[38;5;21;01m.\u001b[39;00m\u001b[38;5;21;01mutils\u001b[39;00m\u001b[38;5;21;01m.\u001b[39;00m\u001b[38;5;21;01mgpu_utils\u001b[39;00m \u001b[38;5;28;01mimport\u001b[39;00m validate_setup\n\u001b[1;32m      9\u001b[0m _setup_numba()\n\u001b[0;32m---> 10\u001b[0m \u001b[43mvalidate_setup\u001b[49m\u001b[43m(\u001b[49m\u001b[43m)\u001b[49m\n\u001b[1;32m     12\u001b[0m \u001b[38;5;28;01mimport\u001b[39;00m \u001b[38;5;21;01mcupy\u001b[39;00m\n\u001b[1;32m     13\u001b[0m \u001b[38;5;28;01mfrom\u001b[39;00m \u001b[38;5;21;01mnumba\u001b[39;00m \u001b[38;5;28;01mimport\u001b[39;00m config \u001b[38;5;28;01mas\u001b[39;00m numba_config, cuda\n",
      "File \u001b[0;32m~/miniconda3/envs/rapids/lib/python3.9/site-packages/cudf/utils/gpu_utils.py:95\u001b[0m, in \u001b[0;36mvalidate_setup\u001b[0;34m()\u001b[0m\n\u001b[1;32m     85\u001b[0m     minor_version \u001b[38;5;241m=\u001b[39m getDeviceAttribute(\n\u001b[1;32m     86\u001b[0m         cudaDeviceAttr\u001b[38;5;241m.\u001b[39mcudaDevAttrComputeCapabilityMinor, \u001b[38;5;241m0\u001b[39m\n\u001b[1;32m     87\u001b[0m     )\n\u001b[1;32m     88\u001b[0m     warnings\u001b[38;5;241m.\u001b[39mwarn(\n\u001b[1;32m     89\u001b[0m         \u001b[38;5;124m\"\u001b[39m\u001b[38;5;124mA GPU with NVIDIA Pascal™ (Compute Capability 6.0) \u001b[39m\u001b[38;5;124m\"\u001b[39m\n\u001b[1;32m     90\u001b[0m         \u001b[38;5;124m\"\u001b[39m\u001b[38;5;124mor newer architecture is required.\u001b[39m\u001b[38;5;130;01m\\n\u001b[39;00m\u001b[38;5;124m\"\u001b[39m\n\u001b[1;32m     91\u001b[0m         \u001b[38;5;124mf\u001b[39m\u001b[38;5;124m\"\u001b[39m\u001b[38;5;124mDetected GPU 0: \u001b[39m\u001b[38;5;132;01m{\u001b[39;00mdevice_name\u001b[38;5;132;01m}\u001b[39;00m\u001b[38;5;130;01m\\n\u001b[39;00m\u001b[38;5;124m\"\u001b[39m\n\u001b[1;32m     92\u001b[0m         \u001b[38;5;124mf\u001b[39m\u001b[38;5;124m\"\u001b[39m\u001b[38;5;124mDetected Compute Capability: \u001b[39m\u001b[38;5;132;01m{\u001b[39;00mmajor_version\u001b[38;5;132;01m}\u001b[39;00m\u001b[38;5;124m.\u001b[39m\u001b[38;5;132;01m{\u001b[39;00mminor_version\u001b[38;5;132;01m}\u001b[39;00m\u001b[38;5;124m\"\u001b[39m\n\u001b[1;32m     93\u001b[0m     )\n\u001b[0;32m---> 95\u001b[0m cuda_runtime_version \u001b[38;5;241m=\u001b[39m \u001b[43mruntimeGetVersion\u001b[49m\u001b[43m(\u001b[49m\u001b[43m)\u001b[49m\n\u001b[1;32m     97\u001b[0m \u001b[38;5;28;01mif\u001b[39;00m cuda_runtime_version \u001b[38;5;241m<\u001b[39m \u001b[38;5;241m11000\u001b[39m:\n\u001b[1;32m     98\u001b[0m     \u001b[38;5;66;03m# Require CUDA Runtime version 11.0 or greater.\u001b[39;00m\n\u001b[1;32m     99\u001b[0m     major_version \u001b[38;5;241m=\u001b[39m cuda_runtime_version \u001b[38;5;241m/\u001b[39m\u001b[38;5;241m/\u001b[39m \u001b[38;5;241m1000\u001b[39m\n",
      "File \u001b[0;32m~/miniconda3/envs/rapids/lib/python3.9/site-packages/rmm/_cuda/gpu.py:88\u001b[0m, in \u001b[0;36mruntimeGetVersion\u001b[0;34m()\u001b[0m\n\u001b[1;32m     84\u001b[0m \u001b[38;5;66;03m# TODO: Replace this with `cuda.cudart.cudaRuntimeGetVersion()` when the\u001b[39;00m\n\u001b[1;32m     85\u001b[0m \u001b[38;5;66;03m# limitation is fixed.\u001b[39;00m\n\u001b[1;32m     86\u001b[0m \u001b[38;5;28;01mimport\u001b[39;00m \u001b[38;5;21;01mnumba\u001b[39;00m\u001b[38;5;21;01m.\u001b[39;00m\u001b[38;5;21;01mcuda\u001b[39;00m\n\u001b[0;32m---> 88\u001b[0m major, minor \u001b[38;5;241m=\u001b[39m \u001b[43mnumba\u001b[49m\u001b[38;5;241;43m.\u001b[39;49m\u001b[43mcuda\u001b[49m\u001b[38;5;241;43m.\u001b[39;49m\u001b[43mruntime\u001b[49m\u001b[38;5;241;43m.\u001b[39;49m\u001b[43mget_version\u001b[49m\u001b[43m(\u001b[49m\u001b[43m)\u001b[49m\n\u001b[1;32m     89\u001b[0m \u001b[38;5;28;01mreturn\u001b[39;00m major \u001b[38;5;241m*\u001b[39m \u001b[38;5;241m1000\u001b[39m \u001b[38;5;241m+\u001b[39m minor \u001b[38;5;241m*\u001b[39m \u001b[38;5;241m10\u001b[39m\n",
      "File \u001b[0;32m~/miniconda3/envs/rapids/lib/python3.9/site-packages/numba/cuda/cudadrv/runtime.py:111\u001b[0m, in \u001b[0;36mRuntime.get_version\u001b[0;34m(self)\u001b[0m\n\u001b[1;32m    107\u001b[0m \u001b[38;5;124;03m\"\"\"\u001b[39;00m\n\u001b[1;32m    108\u001b[0m \u001b[38;5;124;03mReturns the CUDA Runtime version as a tuple (major, minor).\u001b[39;00m\n\u001b[1;32m    109\u001b[0m \u001b[38;5;124;03m\"\"\"\u001b[39;00m\n\u001b[1;32m    110\u001b[0m rtver \u001b[38;5;241m=\u001b[39m ctypes\u001b[38;5;241m.\u001b[39mc_int()\n\u001b[0;32m--> 111\u001b[0m \u001b[38;5;28;43mself\u001b[39;49m\u001b[38;5;241;43m.\u001b[39;49m\u001b[43mcudaRuntimeGetVersion\u001b[49m(ctypes\u001b[38;5;241m.\u001b[39mbyref(rtver))\n\u001b[1;32m    112\u001b[0m \u001b[38;5;66;03m# The version is encoded as (1000 * major) + (10 * minor)\u001b[39;00m\n\u001b[1;32m    113\u001b[0m major \u001b[38;5;241m=\u001b[39m rtver\u001b[38;5;241m.\u001b[39mvalue \u001b[38;5;241m/\u001b[39m\u001b[38;5;241m/\u001b[39m \u001b[38;5;241m1000\u001b[39m\n",
      "File \u001b[0;32m~/miniconda3/envs/rapids/lib/python3.9/site-packages/numba/cuda/cudadrv/runtime.py:65\u001b[0m, in \u001b[0;36mRuntime.__getattr__\u001b[0;34m(self, fname)\u001b[0m\n\u001b[1;32m     62\u001b[0m argtypes \u001b[38;5;241m=\u001b[39m proto[\u001b[38;5;241m1\u001b[39m:]\n\u001b[1;32m     64\u001b[0m \u001b[38;5;28;01mif\u001b[39;00m \u001b[38;5;129;01mnot\u001b[39;00m \u001b[38;5;28mself\u001b[39m\u001b[38;5;241m.\u001b[39mis_initialized:\n\u001b[0;32m---> 65\u001b[0m     \u001b[38;5;28;43mself\u001b[39;49m\u001b[38;5;241;43m.\u001b[39;49m\u001b[43m_initialize\u001b[49m\u001b[43m(\u001b[49m\u001b[43m)\u001b[49m\n\u001b[1;32m     67\u001b[0m \u001b[38;5;66;03m# Find function in runtime library\u001b[39;00m\n\u001b[1;32m     68\u001b[0m libfn \u001b[38;5;241m=\u001b[39m \u001b[38;5;28mself\u001b[39m\u001b[38;5;241m.\u001b[39m_find_api(fname)\n",
      "File \u001b[0;32m~/miniconda3/envs/rapids/lib/python3.9/site-packages/numba/cuda/cudadrv/runtime.py:51\u001b[0m, in \u001b[0;36mRuntime._initialize\u001b[0;34m(self)\u001b[0m\n\u001b[1;32m     47\u001b[0m     msg \u001b[38;5;241m=\u001b[39m (\u001b[38;5;124m\"\u001b[39m\u001b[38;5;124mCUDA is disabled due to setting NUMBA_DISABLE_CUDA=1 \u001b[39m\u001b[38;5;124m\"\u001b[39m\n\u001b[1;32m     48\u001b[0m            \u001b[38;5;124m\"\u001b[39m\u001b[38;5;124min the environment, or because CUDA is unsupported on \u001b[39m\u001b[38;5;124m\"\u001b[39m\n\u001b[1;32m     49\u001b[0m            \u001b[38;5;124m\"\u001b[39m\u001b[38;5;124m32-bit systems.\u001b[39m\u001b[38;5;124m\"\u001b[39m)\n\u001b[1;32m     50\u001b[0m     \u001b[38;5;28;01mraise\u001b[39;00m CudaSupportError(msg)\n\u001b[0;32m---> 51\u001b[0m \u001b[38;5;28mself\u001b[39m\u001b[38;5;241m.\u001b[39mlib \u001b[38;5;241m=\u001b[39m \u001b[43mopen_cudalib\u001b[49m\u001b[43m(\u001b[49m\u001b[38;5;124;43m'\u001b[39;49m\u001b[38;5;124;43mcudart\u001b[39;49m\u001b[38;5;124;43m'\u001b[39;49m\u001b[43m)\u001b[49m\n\u001b[1;32m     53\u001b[0m \u001b[38;5;28mself\u001b[39m\u001b[38;5;241m.\u001b[39mis_initialized \u001b[38;5;241m=\u001b[39m \u001b[38;5;28;01mTrue\u001b[39;00m\n",
      "File \u001b[0;32m~/miniconda3/envs/rapids/lib/python3.9/site-packages/numba/cuda/cudadrv/libs.py:64\u001b[0m, in \u001b[0;36mopen_cudalib\u001b[0;34m(lib)\u001b[0m\n\u001b[1;32m     62\u001b[0m \u001b[38;5;28;01mdef\u001b[39;00m \u001b[38;5;21mopen_cudalib\u001b[39m(lib):\n\u001b[1;32m     63\u001b[0m     path \u001b[38;5;241m=\u001b[39m get_cudalib(lib)\n\u001b[0;32m---> 64\u001b[0m     \u001b[38;5;28;01mreturn\u001b[39;00m \u001b[43mctypes\u001b[49m\u001b[38;5;241;43m.\u001b[39;49m\u001b[43mCDLL\u001b[49m\u001b[43m(\u001b[49m\u001b[43mpath\u001b[49m\u001b[43m)\u001b[49m\n",
      "File \u001b[0;32m~/miniconda3/envs/rapids/lib/python3.9/ctypes/__init__.py:382\u001b[0m, in \u001b[0;36mCDLL.__init__\u001b[0;34m(self, name, mode, handle, use_errno, use_last_error, winmode)\u001b[0m\n\u001b[1;32m    379\u001b[0m \u001b[38;5;28mself\u001b[39m\u001b[38;5;241m.\u001b[39m_FuncPtr \u001b[38;5;241m=\u001b[39m _FuncPtr\n\u001b[1;32m    381\u001b[0m \u001b[38;5;28;01mif\u001b[39;00m handle \u001b[38;5;129;01mis\u001b[39;00m \u001b[38;5;28;01mNone\u001b[39;00m:\n\u001b[0;32m--> 382\u001b[0m     \u001b[38;5;28mself\u001b[39m\u001b[38;5;241m.\u001b[39m_handle \u001b[38;5;241m=\u001b[39m \u001b[43m_dlopen\u001b[49m\u001b[43m(\u001b[49m\u001b[38;5;28;43mself\u001b[39;49m\u001b[38;5;241;43m.\u001b[39;49m\u001b[43m_name\u001b[49m\u001b[43m,\u001b[49m\u001b[43m \u001b[49m\u001b[43mmode\u001b[49m\u001b[43m)\u001b[49m\n\u001b[1;32m    383\u001b[0m \u001b[38;5;28;01melse\u001b[39;00m:\n\u001b[1;32m    384\u001b[0m     \u001b[38;5;28mself\u001b[39m\u001b[38;5;241m.\u001b[39m_handle \u001b[38;5;241m=\u001b[39m handle\n",
      "\u001b[0;31mOSError\u001b[0m: libcudart.so: cannot open shared object file: No such file or directory"
     ]
    }
   ],
   "source": [
    "import cudf\n",
    "import cuml"
   ]
  },
  {
   "cell_type": "code",
   "execution_count": null,
   "metadata": {},
   "outputs": [],
   "source": [
    "# Assuming your DataFrame is named df, and coordinates are in separate columns like 'x', 'y', 'z'\n",
    "\n",
    "# Create a CuDF DataFrame from your pandas DataFrame\n",
    "df_gpu = cudf.DataFrame.from_pandas(df)\n",
    "\n",
    "# Create a KNN model\n",
    "model = cuml.NearestNeighbors()\n",
    "\n",
    "# Fit the model to your data\n",
    "model.fit(df_gpu[['x', 'y', 'z']])\n",
    "\n",
    "# Define a function to calculate proportion of the same label\n",
    "def calc_same_label_proportion(index, row):\n",
    "    # Find indices and distances of k nearest neighbors\n",
    "    distances, indices = model.kneighbors(row[['x', 'y', 'z']].to_frame().T, n_neighbors=k+1)\n",
    "    \n",
    "    # Exclude the point itself\n",
    "    indices = indices[0][1:]  # Exclude the first index because it's the point itself\n",
    "    \n",
    "    # Get the labels of these points\n",
    "    neighbor_labels = df_gpu.index.take(indices)\n",
    "    \n",
    "    # Calculate the proportion of points that share the same label\n",
    "    same_label_proportion = (neighbor_labels == row.name).mean()\n",
    "    \n",
    "    return same_label_proportion\n",
    "\n",
    "# Compute the same label proportion for each point\n",
    "df_gpu['same_label_proportion'] = df_gpu.apply_rows(\n",
    "    calc_same_label_proportion,\n",
    "    incols=['x', 'y', 'z'],\n",
    "    outcols=dict(same_label_proportion=np.float32),\n",
    "    kwargs=dict(k=k)\n",
    ")\n",
    "\n",
    "# Compute the average same_label_proportion for each label\n",
    "average_proportions = df_gpu.groupby(df_gpu.index).same_label_proportion.mean()\n"
   ]
  },
  {
   "cell_type": "code",
   "execution_count": null,
   "metadata": {},
   "outputs": [],
   "source": [
    "sample_df = df.groupby('gene_symbol_0', group_keys=False).apply(lambda x: x.sample(min(len(x), 1000)))\n",
    "normalized_df = normalize(sample_df.iloc[:,2:34])\n",
    "normalized_df = pd.DataFrame(normalized_df, index=sample_df['gene_symbol_0']).reset_index()\n"
   ]
  },
  {
   "cell_type": "code",
   "execution_count": null,
   "metadata": {},
   "outputs": [],
   "source": [
    "# Compute the distances to the nearest neighbors within radius epsilon\n",
    "epsilon = 0.1\n",
    "neighbors = NearestNeighbors(radius=epsilon, metric='cosine')\n",
    "neighbors.fit(normalized_df.iloc[:,1:])"
   ]
  },
  {
   "cell_type": "code",
   "execution_count": null,
   "metadata": {},
   "outputs": [],
   "source": [
    "def calc_same_label_proportion(index, row):\n",
    "    # Find points within epsilon radius\n",
    "    indices = neighbors.radius_neighbors(np.array(row[1:]).reshape(1,-1), return_distance=False)\n",
    "    # Exclude the point itself\n",
    "    # indices = [i for i in indices[0] if i != index]\n",
    "    if len(indices[0]) == 1:\n",
    "        return 0\n",
    "    # Get the labels of these points\n",
    "    neighbor_labels = normalized_df.loc[indices[0], 'gene_symbol_0']\n",
    "    \n",
    "    # Calculate the proportion of points that share the same label\n",
    "    same_label_proportion = np.mean(neighbor_labels == row['gene_symbol_0'])\n",
    "    \n",
    "    return same_label_proportion"
   ]
  },
  {
   "cell_type": "code",
   "execution_count": null,
   "metadata": {},
   "outputs": [],
   "source": [
    "# This is where we'll store the results\n",
    "results = Parallel(n_jobs=-1)(delayed(calc_same_label_proportion)(i, row) for i, row in tqdm(normalized_df.iterrows(), total=len(normalized_df)))"
   ]
  },
  {
   "cell_type": "code",
   "execution_count": null,
   "metadata": {},
   "outputs": [],
   "source": [
    "# Add the results to the DataFrame\n",
    "normalized_df['same_label_proportion'] = results\n",
    "\n",
    "# Now you can compute the average proportion per group/label\n",
    "group_scores = normalized_df.groupby('gene_symbol_0')['same_label_proportion'].mean()"
   ]
  }
 ],
 "metadata": {
  "kernelspec": {
   "display_name": "rapids",
   "language": "python",
   "name": "rapids"
  },
  "language_info": {
   "codemirror_mode": {
    "name": "ipython",
    "version": 3
   },
   "file_extension": ".py",
   "mimetype": "text/x-python",
   "name": "python",
   "nbconvert_exporter": "python",
   "pygments_lexer": "ipython3",
   "version": "3.9.17"
  }
 },
 "nbformat": 4,
 "nbformat_minor": 4
}
